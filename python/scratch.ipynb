{
 "cells": [
  {
   "cell_type": "code",
   "execution_count": null,
   "metadata": {
    "collapsed": true
   },
   "outputs": [],
   "source": [
    "import librenderman as rm\n",
    "\n",
    "# Important settings. These are good general ones.\n",
    "sampleRate = 44100\n",
    "bufferSize = 512\n",
    "fftSize = 512\n",
    "\n",
    "# This will host a VST. It will render the features and audio we need.\n",
    "engine = rm.RenderEngine(sampleRate, bufferSize, fftSize)\n",
    "\n",
    "# Load the VST into the RenderEngine.\n",
    "path = \"/Library/Audio/Plug-Ins/VST/Serum.vst\"\n",
    "# path = '/Library/Audio/Presets/Xfer Records/Serum Presets/Presets/User/test_preset.fxp'\n",
    "\n",
    "engine.load_plugin(path)\n",
    "generator = rm.PatchGenerator(engine)\n",
    "\n",
    "print(engine.get_plugin_parameters_description())"
   ]
  },
  {
   "cell_type": "code",
   "execution_count": null,
   "outputs": [],
   "source": [
    "# Get a random patch and set it.\n",
    "new_patch = generator.get_random_patch()\n",
    "engine.set_patch(new_patch)"
   ],
   "metadata": {
    "collapsed": false,
    "pycharm": {
     "name": "#%%\n"
    }
   }
  },
  {
   "cell_type": "code",
   "execution_count": null,
   "outputs": [],
   "source": [
    "# Settings to play a note and extract data from the synth.\n",
    "midiNote = 40\n",
    "midiVelocity = 127\n",
    "noteLength = 4.0\n",
    "renderLength = 5.0\n",
    "\n",
    "# Render the data.\n",
    "engine.render_patch(midiNote, midiVelocity, noteLength, renderLength)\n",
    "\n",
    "audio = engine.get_audio_frames()\n",
    "\n",
    "patch = engine.get_patch()\n",
    "\n",
    "for parameter in patch:\n",
    "    # Unpack and print the parameter tuple.\n",
    "    index, value = parameter\n",
    "    print(\"Index: \" + '{:3d}'.format(index) + \" --- Value: \" + str(value))"
   ],
   "metadata": {
    "collapsed": false,
    "pycharm": {
     "name": "#%%\n"
    }
   }
  },
  {
   "cell_type": "code",
   "execution_count": null,
   "outputs": [],
   "source": [
    "import matplotlib.pyplot as plt\n",
    "\n",
    "plt.plot(audio)\n",
    "plt.xlabel('Time (frame count)')\n",
    "plt.show()"
   ],
   "metadata": {
    "collapsed": false,
    "pycharm": {
     "name": "#%%\n"
    }
   }
  },
  {
   "cell_type": "code",
   "execution_count": null,
   "outputs": [],
   "source": [
    "from IPython.display import Audio\n",
    "\n",
    "Audio(audio, rate=sampleRate)"
   ],
   "metadata": {
    "collapsed": false,
    "pycharm": {
     "name": "#%%\n"
    }
   }
  }
 ],
 "metadata": {
  "kernelspec": {
   "display_name": "Python 3",
   "language": "python",
   "name": "python3"
  },
  "language_info": {
   "codemirror_mode": {
    "name": "ipython",
    "version": 2
   },
   "file_extension": ".py",
   "mimetype": "text/x-python",
   "name": "python",
   "nbconvert_exporter": "python",
   "pygments_lexer": "ipython2",
   "version": "2.7.6"
  }
 },
 "nbformat": 4,
 "nbformat_minor": 0
}